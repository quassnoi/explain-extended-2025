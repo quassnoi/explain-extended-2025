{
 "cells": [
  {
   "cell_type": "code",
   "execution_count": null,
   "metadata": {},
   "outputs": [],
   "source": [
    "%pip install diffusers torch ipywidgets jupyter matplotlib pathlib requests\n",
    "\n",
    "unet_path = \".cache/models--gnokit--ddpm-butterflies-64/snapshots/392181eaf40820b6e33dfd30a950ce0b6df46063/unet\""
   ]
  },
  {
   "cell_type": "markdown",
   "metadata": {},
   "source": [
    "Boilerplate code:\n",
    "\n",
    "* Import libraries\n",
    "* Load the model to memory/GPU\n",
    "* Define functions for extracting weights and biases"
   ]
  },
  {
   "cell_type": "code",
   "execution_count": 10,
   "metadata": {},
   "outputs": [],
   "source": [
    "from torch.nn.functional import linear, silu, conv2d, group_norm, scaled_dot_product_attention, interpolate\n",
    "from safetensors.torch import load_file\n",
    "import torch\n",
    "import os\n",
    "import torch\n",
    "import math\n",
    "from tqdm.auto import tqdm\n",
    "from PIL.Image import fromarray\n",
    "from pathlib import Path\n",
    "import requests\n",
    "import hashlib\n",
    "\n",
    "\n",
    "device = torch.device(\"cuda\" if torch.cuda.is_available() else \"cpu\")\n",
    "torch.set_default_device(device)\n",
    "torch.autograd.set_grad_enabled(False)\n",
    "\n",
    "model_file_path = os.path.join(\n",
    "    unet_path, \"diffusion_pytorch_model.fp16.safetensors\")\n",
    "\n",
    "if (not Path(model_file_path).exists()):\n",
    "    Path(unet_path).mkdir(parents=True, exist_ok=True)\n",
    "    model_url = \"https://huggingface.co/gnokit/ddpm-butterflies-64/resolve/main/unet/diffusion_pytorch_model.fp16.safetensors\"\n",
    "    try:\n",
    "        response = requests.get(model_url)\n",
    "        with open(model_file_path, \"wb\") as f:\n",
    "            f.write(response.content)\n",
    "    except Exception as e:\n",
    "        Path(model_file_path).unlink()\n",
    "        raise e\n",
    "\n",
    "tensors = load_file(model_file_path)\n",
    "\n",
    "\n",
    "def weight_bias(tensors, prefix):\n",
    "    return tuple(tensors.get(f\"{prefix}.{suffix}\") for suffix in [\"weight\", \"bias\"])\n",
    "\n",
    "\n",
    "def resnet_wb(tensors, prefix):\n",
    "    return tuple(weight_bias(tensors, f\"{prefix}.{suffix}\") for suffix in (\"norm1\", \"conv1\", \"time_emb_proj\", \"norm2\", \"conv2\", \"conv_shortcut\"))\n",
    "\n",
    "\n",
    "def attn_wb(tensors, prefix):\n",
    "    return tuple(weight_bias(tensors, f\"{prefix}.{suffix}\") for suffix in (\"group_norm\", \"to_q\", \"to_k\", \"to_v\", \"to_out.0\"))\n",
    "\n",
    "\n",
    "def get_image(image):\n",
    "    return fromarray(((image.permute((2, 0, 3, 1)).flatten(1, 2) / 2 + 0.5).clamp(0, 1) * 255).cpu().numpy().astype(\"uint8\"))"
   ]
  },
  {
   "cell_type": "markdown",
   "metadata": {},
   "source": [
    "Code for the DDPM model proper.\n",
    "\n",
    "For brevity, many of the model hyperparameters are hardcoded."
   ]
  },
  {
   "cell_type": "code",
   "execution_count": 11,
   "metadata": {},
   "outputs": [],
   "source": [
    "def get_t_emb(timestep):\n",
    "    embeddings = timestep * torch.exp(-math.log(10000) * torch.arange(32) / 32)\n",
    "    return torch.cat((torch.cos(embeddings), torch.sin(embeddings)), dim=-1)\n",
    "\n",
    "\n",
    "def resnet(input, t_emb, norm1, conv1, time_emb_proj, norm2, conv2, conv_shortcut):\n",
    "    hidden_states = conv2d(\n",
    "        silu(group_norm(input, 32, *norm1)), *conv1, padding=1)\n",
    "    t_emb = linear(t_emb, *time_emb_proj)[:, :, None, None]\n",
    "    hidden_states = conv2d(\n",
    "        silu(group_norm(hidden_states + t_emb, 32, *norm2)), *conv2, padding=1)\n",
    "    input = conv2d(\n",
    "        input, *conv_shortcut) if conv_shortcut[0] is not None else input\n",
    "\n",
    "    return hidden_states + input\n",
    "\n",
    "\n",
    "def attn(hidden_states, gn, to_q, to_k, to_v, to_out):\n",
    "    head_dim = 8\n",
    "    residual = hidden_states\n",
    "    batch_size, channel, height, width = hidden_states.shape\n",
    "    hidden_states = group_norm(\n",
    "        hidden_states, 32, *gn).view(batch_size, channel, height * width).transpose(1, 2)\n",
    "    heads = to_k[1].shape[-1] // head_dim\n",
    "    q = linear(hidden_states, *to_q).view(batch_size, -\n",
    "                                          1, heads, head_dim).transpose(1, 2)\n",
    "    k = linear(hidden_states, *to_k).view(batch_size, -\n",
    "                                          1, heads, head_dim).transpose(1, 2)\n",
    "    v = linear(hidden_states, *to_v).view(batch_size, -\n",
    "                                          1, heads, head_dim).transpose(1, 2)\n",
    "    return linear(\n",
    "        scaled_dot_product_attention(q, k, v).\n",
    "        transpose(1, 2).\n",
    "        reshape(batch_size, -1, heads * head_dim), *to_out).\\\n",
    "        transpose(-1, -2).reshape(batch_size,\n",
    "                                  channel, height, width) + residual\n",
    "\n",
    "\n",
    "def forward_down_block(hidden_states, down_block, t_emb, tensors):\n",
    "    output_states = ()\n",
    "    for layer in range(2):\n",
    "        hidden_states = resnet(\n",
    "            hidden_states, t_emb, *resnet_wb(tensors, f\"down_blocks.{down_block}.resnets.{layer}\"))\n",
    "        attn_params = attn_wb(tensors,\n",
    "                              f\"down_blocks.{down_block}.attentions.{layer}\")\n",
    "        if (attn_params[0][0] is not None):\n",
    "            hidden_states = attn(hidden_states, *attn_params)\n",
    "        output_states += (hidden_states,)\n",
    "    downsamplers_conv = weight_bias(\n",
    "        tensors, f\"down_blocks.{down_block}.downsamplers.0.conv\")\n",
    "    if (downsamplers_conv[0] is not None):\n",
    "        hidden_states = conv2d(\n",
    "            hidden_states, *downsamplers_conv, stride=2, padding=1)\n",
    "        output_states += (hidden_states,)\n",
    "    return hidden_states, output_states\n",
    "\n",
    "\n",
    "def forward_down(hidden_states, t_emb, tensors):\n",
    "    down_block_res_samples = (hidden_states,)\n",
    "    for down_block in range(4):\n",
    "        hidden_states, output_states = forward_down_block(\n",
    "            hidden_states, down_block, t_emb, tensors)\n",
    "        down_block_res_samples += output_states\n",
    "    return hidden_states, down_block_res_samples\n",
    "\n",
    "\n",
    "def forward_mid(hidden_states, t_emb, tensors):\n",
    "    hidden_states = resnet(hidden_states, t_emb, *\n",
    "                           resnet_wb(tensors, \"mid_block.resnets.0\"))\n",
    "    hidden_states = attn(\n",
    "        hidden_states, *attn_wb(tensors, \"mid_block.attentions.0\"))\n",
    "    hidden_states = resnet(hidden_states, t_emb, *\n",
    "                           resnet_wb(tensors, \"mid_block.resnets.1\"))\n",
    "    return hidden_states\n",
    "\n",
    "\n",
    "def forward_up_block(hidden_states, up_block, t_emb, res_hidden_states_list, tensors):\n",
    "    for layer, res_hidden_states in enumerate(reversed(res_hidden_states_list)):\n",
    "        hidden_states = resnet(torch.cat([hidden_states, res_hidden_states], dim=1), t_emb, *resnet_wb(\n",
    "            tensors, f\"up_blocks.{up_block}.resnets.{layer}\"))\n",
    "        attn_params = attn_wb(\n",
    "            tensors, f\"up_blocks.{up_block}.attentions.{layer}\")\n",
    "        hidden_states = attn(\n",
    "            hidden_states, *attn_params) if attn_params[0][0] is not None else hidden_states\n",
    "    upsamplers_conv = weight_bias(\n",
    "        tensors, f\"up_blocks.{up_block}.upsamplers.0.conv\")\n",
    "    hidden_states = conv2d(interpolate(\n",
    "        hidden_states, scale_factor=2.0, mode=\"nearest\"), *upsamplers_conv, padding=1) if upsamplers_conv[0] is not None else hidden_states\n",
    "    return hidden_states\n",
    "\n",
    "\n",
    "def forward_up(hidden_states, t_emb, residuals, tensors):\n",
    "    for up_block in range(4):\n",
    "        block_residuals = residuals[-3:]\n",
    "        residuals = residuals[:-3]\n",
    "        hidden_states = forward_up_block(hidden_states, up_block, t_emb,\n",
    "                                         block_residuals, tensors)\n",
    "    return hidden_states\n",
    "\n",
    "\n",
    "def unet(input, t, tensors):\n",
    "    t_emb = silu(linear(silu(linear(get_t_emb(t),\n",
    "                                    *weight_bias(tensors,\n",
    "                                                 \"time_embedding.linear_1\"))),\n",
    "                        *weight_bias(tensors, \"time_embedding.linear_2\"))[None, :])\n",
    "\n",
    "    hidden_states, residuals = forward_down(\n",
    "        conv2d(input, *weight_bias(tensors, \"conv_in\"), padding=1), t_emb, tensors)\n",
    "    hidden_states = forward_mid(hidden_states, t_emb, tensors)\n",
    "    hidden_states = forward_up(\n",
    "        hidden_states, t_emb, residuals, tensors)\n",
    "    hidden_states = conv2d(silu(group_norm(hidden_states, 32,\n",
    "                                           *weight_bias(tensors, \"conv_norm_out\"))),\n",
    "                           *weight_bias(tensors, \"conv_out\"), padding=1)\n",
    "    return hidden_states\n",
    "\n",
    "\n",
    "alphas_p = torch.cumprod(1 - torch.linspace(0.0001, 0.02, 1000), 0)\n",
    "\n",
    "\n",
    "def step(current, noise, t, t2, generator=None, use_noise=True):\n",
    "    x0 = ((current - (1 - alphas_p[t]) ** (0.5) * noise) / alphas_p[t] ** (0.5)).\\\n",
    "        clamp(-1, 1)\n",
    "    x0_c = (alphas_p[t2] ** (0.5) *\n",
    "                    (1 - alphas_p[t] / alphas_p[t2])) / (1 - alphas_p[t]) if t2 >= 0 else 1\n",
    "    xt2_c = (alphas_p[t] / alphas_p[t2]) ** (0.5) * \\\n",
    "        (1 - alphas_p[t2]) / (1 - alphas_p[t]) if t2 >= 0 else 0\n",
    "    x_t2 = x0_c * x0 + xt2_c * current\n",
    "\n",
    "    creative_noise = (((1 - alphas_p[t2]) / (1 - alphas_p[t]) * (\n",
    "        1 - alphas_p[t] / alphas_p[t2])).clamp(1e-20) ** 0.5) if t2 >= 0 and use_noise else 0\n",
    "    return x_t2 + creative_noise * torch.randn(x_t2.shape, generator=generator, device=device)"
   ]
  },
  {
   "cell_type": "markdown",
   "metadata": {},
   "source": [
    "Generate an image of a butterfly. We are using seeded random number generators for reproducibility."
   ]
  },
  {
   "cell_type": "code",
   "execution_count": null,
   "metadata": {},
   "outputs": [],
   "source": [
    "image_generator = torch.Generator(device=device).manual_seed(2025)\n",
    "noise_generator = torch.Generator(device=device).manual_seed(2025)\n",
    "image = torch.randn((1, 3, 64, 64), generator=image_generator, device=device)\n",
    "\n",
    "for t in tqdm(list(reversed(range(1000)))):\n",
    "    noise = unet(image, t, tensors)\n",
    "    image = step(image, noise, t, t - 1, generator=noise_generator)\n",
    "\n",
    "get_image(image)"
   ]
  },
  {
   "cell_type": "markdown",
   "metadata": {},
   "source": [
    "Visualize temporal embeddings."
   ]
  },
  {
   "cell_type": "code",
   "execution_count": null,
   "metadata": {},
   "outputs": [],
   "source": [
    "from matplotlib import pyplot as plt\n",
    "\n",
    "figure, a = plt.subplots()\n",
    "\n",
    "t_emb = get_t_emb(torch.arange(1000)[:, None])\n",
    "a.set_title(\"Nth dimension of the temporal embedding over first 100 timesteps\")\n",
    "line = a.plot(t_emb[:100, (2, 5, 10)].cpu().numpy(),\n",
    "                 label=[\"x[2]\", \"x[5]\", \"x[10]\"])\n",
    "a.legend(loc=\"right\");"
   ]
  },
  {
   "cell_type": "markdown",
   "metadata": {},
   "source": [
    "Trying to predict the original image in one step."
   ]
  },
  {
   "cell_type": "code",
   "execution_count": null,
   "metadata": {},
   "outputs": [],
   "source": [
    "image_generator = torch.Generator(device=device).manual_seed(2025)\n",
    "\n",
    "t = 999\n",
    "image = torch.randn((1, 3, 64, 64), generator=image_generator, device=device)\n",
    "noise = unet(image, t, tensors)\n",
    "image = step(image, noise, t, 0)\n",
    "\n",
    "get_image(image)"
   ]
  },
  {
   "cell_type": "markdown",
   "metadata": {},
   "source": [
    "Generating images in SQL takes a lot of time. See what we get if we cheat and skip steps.\n",
    "\n",
    "Generate ten images of butterflies using a simplified noise schedule."
   ]
  },
  {
   "cell_type": "code",
   "execution_count": null,
   "metadata": {},
   "outputs": [],
   "source": [
    "# Cheat and skip steps\n",
    "\n",
    "image_generator = torch.Generator(device=device).manual_seed(2025)\n",
    "noise_generator = torch.Generator(device=device).manual_seed(2025)\n",
    "image = (torch.rand((1, 3, 64, 64), generator=image_generator, device=device) * 2 - 1) * 1.73\n",
    "\n",
    "steps = [500, 250, 125, 60, 0]\n",
    "for t, t2 in tqdm(list(zip(steps, steps[1:]))):\n",
    "    noise = unet(image, t, tensors)\n",
    "    image = step(image, noise, t, t2, noise_generator)\n",
    "\n",
    "get_image(image)"
   ]
  },
  {
   "cell_type": "markdown",
   "metadata": {},
   "source": [
    "Those so inclined can try to generate images using the original HuggingFace pipeline API."
   ]
  },
  {
   "cell_type": "code",
   "execution_count": null,
   "metadata": {},
   "outputs": [],
   "source": [
    "from diffusers import DDPMPipeline\n",
    "\n",
    "generator = torch.Generator().manual_seed(42)\n",
    "\n",
    "pipeline = DDPMPipeline.from_pretrained(\n",
    "    \"gnokit/ddpm-butterflies-64\", use_safetensors=True, variant=\"fp16\").to(device)\n",
    "images = pipeline(batch_size=1, generator=generator).images\n",
    "\n",
    "for idx, img in enumerate(images):\n",
    "    display(img)"
   ]
  },
  {
   "cell_type": "markdown",
   "metadata": {},
   "source": [
    "The image below was generated in SQL and saved in a JSON file"
   ]
  },
  {
   "cell_type": "code",
   "execution_count": 18,
   "metadata": {},
   "outputs": [
    {
     "data": {
      "image/jpeg": "[encoded data removed]",
      "image/png": "[encoded data removed]",
      "text/plain": [
       "<PIL.Image.Image image mode=RGB size=64x64>"
      ]
     },
     "execution_count": 18,
     "metadata": {},
     "output_type": "execute_result"
    }
   ],
   "source": [
    "import json\n",
    "with open(\"butterfly.json\") as f:\n",
    "    butterfly = torch.tensor(json.load(f))[None, :]\n",
    "get_image(butterfly)"
   ]
  }
 ],
 "metadata": {
  "kernelspec": {
   "display_name": ".venv",
   "language": "python",
   "name": "python3"
  },
  "language_info": {
   "codemirror_mode": {
    "name": "ipython",
    "version": 3
   },
   "file_extension": ".py",
   "mimetype": "text/x-python",
   "name": "python",
   "nbconvert_exporter": "python",
   "pygments_lexer": "ipython3",
   "version": "3.12.3"
  }
 },
 "nbformat": 4,
 "nbformat_minor": 2
}
